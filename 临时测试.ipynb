{
 "cells": [
  {
   "cell_type": "code",
   "execution_count": 10,
   "metadata": {},
   "outputs": [
    {
     "name": "stdout",
     "output_type": "stream",
     "text": [
      "第一个数字: 1\n",
      "最后一个数字: 9\n"
     ]
    }
   ],
   "source": [
    "import re\n",
    "\n",
    "def extract_first_and_last_numbers(text):\n",
    "    # 提取第一个数字\n",
    "    first_number_match = re.search(r'\\d', text)\n",
    "    first_number = first_number_match.group() if first_number_match else None\n",
    "    \n",
    "    # 提取最后一个数字\n",
    "    last_number_match = re.search(r'\\d', text[::-1])\n",
    "    last_number = last_number_match.group() if last_number_match else None\n",
    "    \n",
    "    return first_number, last_number\n",
    "\n",
    "# 测试示例\n",
    "text = \"abc123def456ghi789\"\n",
    "first, last = extract_first_and_last_numbers(text)\n",
    "print(\"第一个数字:\", first)\n",
    "print(\"最后一个数字:\", last)\n",
    "\n"
   ]
  },
  {
   "cell_type": "code",
   "execution_count": 1,
   "metadata": {},
   "outputs": [
    {
     "name": "stdout",
     "output_type": "stream",
     "text": [
      "[[1 2]\n",
      " [2 3]\n",
      " [3 4]\n",
      " [4 5]]\n"
     ]
    }
   ],
   "source": [
    "import numpy as np\n",
    "import pandas as pd\n",
    "# 假设df是你的DataFrame，包含x和y两列数据\n",
    "df = pd.DataFrame({'x': [1, 2, 3, 4], 'y': [2, 3, 4, 5]})\n",
    "\n",
    "# 将DataFrame中的两列数据转换为np.array格式的列表\n",
    "trajectory = np.array(df[['x', 'y']].values.tolist())\n",
    "\n",
    "print(trajectory)\n",
    "\n"
   ]
  },
  {
   "cell_type": "code",
   "execution_count": 5,
   "metadata": {},
   "outputs": [
    {
     "name": "stdout",
     "output_type": "stream",
     "text": [
      "<class 'str'>\n",
      "<class 'numpy.int64'>\n"
     ]
    }
   ],
   "source": [
    "# 示例数据\n",
    "import pandas as pd\n",
    "data1 = {'strings': ['a', 'b', 'c', 'd'],'numbers': [1, 2, 3, 4]}\n",
    "\n",
    "df1 = pd.DataFrame(data1)\n",
    "\n",
    "data2 = {'strings': ['e', 'f', 'g', 'h'],'numbers': [5, 6, 7, 8]}\n",
    "\n",
    "df2=pd.DataFrame(data2)\n",
    "\n",
    "for col in df1.columns:\n",
    "    print(type(df1[col][0]))"
   ]
  },
  {
   "cell_type": "code",
   "execution_count": 3,
   "metadata": {},
   "outputs": [
    {
     "data": {
      "text/html": [
       "<div>\n",
       "<style scoped>\n",
       "    .dataframe tbody tr th:only-of-type {\n",
       "        vertical-align: middle;\n",
       "    }\n",
       "\n",
       "    .dataframe tbody tr th {\n",
       "        vertical-align: top;\n",
       "    }\n",
       "\n",
       "    .dataframe thead th {\n",
       "        text-align: right;\n",
       "    }\n",
       "</style>\n",
       "<table border=\"1\" class=\"dataframe\">\n",
       "  <thead>\n",
       "    <tr style=\"text-align: right;\">\n",
       "      <th></th>\n",
       "      <th>A</th>\n",
       "      <th>B</th>\n",
       "    </tr>\n",
       "  </thead>\n",
       "  <tbody>\n",
       "    <tr>\n",
       "      <th>10</th>\n",
       "      <td>1</td>\n",
       "      <td>5</td>\n",
       "    </tr>\n",
       "    <tr>\n",
       "      <th>11</th>\n",
       "      <td>2</td>\n",
       "      <td>6</td>\n",
       "    </tr>\n",
       "    <tr>\n",
       "      <th>12</th>\n",
       "      <td>3</td>\n",
       "      <td>7</td>\n",
       "    </tr>\n",
       "    <tr>\n",
       "      <th>13</th>\n",
       "      <td>4</td>\n",
       "      <td>8</td>\n",
       "    </tr>\n",
       "  </tbody>\n",
       "</table>\n",
       "</div>"
      ],
      "text/plain": [
       "    A  B\n",
       "10  1  5\n",
       "11  2  6\n",
       "12  3  7\n",
       "13  4  8"
      ]
     },
     "execution_count": 3,
     "metadata": {},
     "output_type": "execute_result"
    }
   ],
   "source": [
    "df"
   ]
  },
  {
   "cell_type": "code",
   "execution_count": 8,
   "metadata": {},
   "outputs": [
    {
     "name": "stdout",
     "output_type": "stream",
     "text": [
      "   x   y\n",
      "0  1   6\n",
      "2  3   8\n",
      "2  3   8\n",
      "2  3   8\n",
      "2  3   8\n",
      "2  3   8\n",
      "2  3   8\n",
      "4  5  10\n"
     ]
    }
   ],
   "source": [
    "import pandas as pd\n",
    "\n",
    "# 假设 trajectory_longer 是一个 DataFrame，longer_path_list 是一个包含索引列表的列表\n",
    "\n",
    "# 示例数据\n",
    "data = {'x': [1, 2, 3, 4, 5],\n",
    "        'y': [6, 7, 8, 9, 10]}\n",
    "\n",
    "trajectory_longer = pd.DataFrame(data)\n",
    "\n",
    "# 示例的长路径索引列表\n",
    "longer_path_list = [0, 2, 2,2,2,2,2,4]\n",
    "\n",
    "# 根据索引列表修改 DataFrame\n",
    "trajectory_longer_filled = trajectory_longer.iloc[longer_path_list]\n",
    "\n",
    "print(trajectory_longer_filled)\n"
   ]
  },
  {
   "cell_type": "code",
   "execution_count": 6,
   "metadata": {},
   "outputs": [
    {
     "name": "stdout",
     "output_type": "stream",
     "text": [
      "[[ 0.          0.        ]\n",
      " [ 0.46440319  0.82548682]\n",
      " [ 0.94608828  1.88566272]\n",
      " [ 1.42950156  2.76736846]\n",
      " [ 1.89908932  3.05744483]\n",
      " [ 2.34661598  2.43711254]\n",
      " [ 2.82196438  1.33712876]\n",
      " [ 3.38429836  0.49689418]\n",
      " [ 3.87865685  0.09083162]\n",
      " [ 4.0336037  -0.06691116]\n",
      " [ 3.9663963  -0.06691116]\n",
      " [ 4.12134315  0.09083162]\n",
      " [ 4.61570164  0.49689418]\n",
      " [ 5.17803562  1.33712876]\n",
      " [ 5.65338402  2.43711254]\n",
      " [ 6.10091068  3.05744483]\n",
      " [ 6.57049844  2.76736846]\n",
      " [ 7.05391172  1.88566272]\n",
      " [ 7.53559681  0.82548682]\n",
      " [ 8.          0.        ]]\n"
     ]
    }
   ],
   "source": [
    "import numpy as np\n",
    "from scipy.interpolate import interp1d\n",
    "\n",
    "# 生成示例轨迹数据 traj1 和 traj2\n",
    "traj1 = np.array([\n",
    "    [0, 0],\n",
    "    [1, 2],\n",
    "    [2, 3],\n",
    "    [3, 1],\n",
    "    [4, 0]\n",
    "])\n",
    "\n",
    "traj2 = np.array([\n",
    "    [4, 0],\n",
    "    [5, 1],\n",
    "    [6, 3],\n",
    "    [7, 2],\n",
    "    [8, 0]\n",
    "])\n",
    "\n",
    "# 合并轨迹数据，得到一个包含两个轨迹的数组\n",
    "merged_traj = np.vstack((traj1, traj2))\n",
    "\n",
    "# 计算总共的帧数\n",
    "total_frames = len(traj1) + len(traj2) + 10  # 加上额外的10帧\n",
    "\n",
    "# 生成时间序列，假设帧率为1帧/秒\n",
    "time_sequence = np.arange(total_frames)\n",
    "\n",
    "# 创建插值函数，axis=0 表示沿着第一个维度插值\n",
    "interp_func = interp1d(np.arange(len(merged_traj)), merged_traj, axis=0, kind='cubic')\n",
    "\n",
    "# 插值生成新的轨迹数据\n",
    "new_traj = interp_func(np.linspace(0, len(merged_traj) - 1, total_frames))\n",
    "\n",
    "# new_traj 现在包含了插值后的轨迹数据，可以用于后续的处理\n",
    "print(new_traj)\n"
   ]
  }
 ],
 "metadata": {
  "kernelspec": {
   "display_name": "base",
   "language": "python",
   "name": "python3"
  },
  "language_info": {
   "codemirror_mode": {
    "name": "ipython",
    "version": 3
   },
   "file_extension": ".py",
   "mimetype": "text/x-python",
   "name": "python",
   "nbconvert_exporter": "python",
   "pygments_lexer": "ipython3",
   "version": "3.9.13"
  }
 },
 "nbformat": 4,
 "nbformat_minor": 2
}
