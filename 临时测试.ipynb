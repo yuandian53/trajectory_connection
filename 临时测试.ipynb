{
 "cells": [
  {
   "cell_type": "code",
   "execution_count": 20,
   "metadata": {},
   "outputs": [
    {
     "name": "stdout",
     "output_type": "stream",
     "text": [
      "    flag    x\n",
      "0      0  1.0\n",
      "1      1  NaN\n",
      "2      1  3.0\n",
      "3      2  4.0\n",
      "4      0  5.0\n",
      "5      1  6.0\n",
      "6      1  7.0\n",
      "7      1  8.0\n",
      "8      1  1.0\n",
      "9      1  1.0\n",
      "10     1  1.0\n",
      "11     1  1.0\n",
      "12     1  1.0\n",
      "13     1  NaN\n",
      "14     2  1.0\n"
     ]
    }
   ],
   "source": [
    "import pandas as pd\n",
    "\n",
    "# 假设 df 是含有 'flag' 和 'x' 列的 DataFrame\n",
    "\n",
    "# 示例数据\n",
    "data = {'flag': [0, 1, 1, 2, 0, 1, 1,1,1,1,1,1 ,1,1,2],\n",
    "        'x': [1, 2, 3, 4, 5, 6, 7, 8,1,1,1,1,1,1,1]}\n",
    "\n",
    "df = pd.DataFrame(data)\n",
    "\n",
    "# 找到标识为1的行的索引\n",
    "flag_1_indices = df.index[df['flag'] == 1]\n",
    "\n",
    "# 确定要置空值的行数\n",
    "num_rows_to_blank = int(0.1 * len(flag_1_indices))\n",
    "\n",
    "# 将前百分之20和后百分之20的 x 列置为空值\n",
    "for index in flag_1_indices[:num_rows_to_blank].union(flag_1_indices[-num_rows_to_blank:]):\n",
    "    df.loc[index, 'x'] = None\n",
    "\n",
    "# 打印修改后的 DataFrame\n",
    "print(df)\n",
    "\n",
    "\n",
    "\n",
    "\n"
   ]
  },
  {
   "cell_type": "code",
   "execution_count": 19,
   "metadata": {},
   "outputs": [
    {
     "data": {
      "text/plain": [
       "Int64Index([1, 2, 5, 6, 7, 8], dtype='int64')"
      ]
     },
     "execution_count": 19,
     "metadata": {},
     "output_type": "execute_result"
    }
   ],
   "source": [
    "flag_1_indices[:num_rows_to_blank]"
   ]
  }
 ],
 "metadata": {
  "kernelspec": {
   "display_name": "base",
   "language": "python",
   "name": "python3"
  },
  "language_info": {
   "codemirror_mode": {
    "name": "ipython",
    "version": 3
   },
   "file_extension": ".py",
   "mimetype": "text/x-python",
   "name": "python",
   "nbconvert_exporter": "python",
   "pygments_lexer": "ipython3",
   "version": "3.9.13"
  }
 },
 "nbformat": 4,
 "nbformat_minor": 2
}
