{
 "cells": [
  {
   "cell_type": "code",
   "execution_count": 10,
   "metadata": {},
   "outputs": [
    {
     "name": "stdout",
     "output_type": "stream",
     "text": [
      "第一个数字: 1\n",
      "最后一个数字: 9\n"
     ]
    }
   ],
   "source": [
    "import re\n",
    "\n",
    "def extract_first_and_last_numbers(text):\n",
    "    # 提取第一个数字\n",
    "    first_number_match = re.search(r'\\d', text)\n",
    "    first_number = first_number_match.group() if first_number_match else None\n",
    "    \n",
    "    # 提取最后一个数字\n",
    "    last_number_match = re.search(r'\\d', text[::-1])\n",
    "    last_number = last_number_match.group() if last_number_match else None\n",
    "    \n",
    "    return first_number, last_number\n",
    "\n",
    "# 测试示例\n",
    "text = \"abc123def456ghi789\"\n",
    "first, last = extract_first_and_last_numbers(text)\n",
    "print(\"第一个数字:\", first)\n",
    "print(\"最后一个数字:\", last)\n",
    "\n"
   ]
  },
  {
   "cell_type": "code",
   "execution_count": 2,
   "metadata": {},
   "outputs": [
    {
     "name": "stdout",
     "output_type": "stream",
     "text": [
      "x     4\n",
      "y    40\n",
      "Name: 3, dtype: int64\n"
     ]
    }
   ],
   "source": [
    "import pandas as pd\n",
    "\n",
    "# 创建示例数据\n",
    "df = pd.DataFrame({'x': [1, 2, 3, 4, 5], 'y': [10, 20, 30, 40, 50]})\n",
    "\n",
    "# 给定值\n",
    "given_x = 3.9\n",
    "\n",
    "# 计算与给定值最接近的一行的索引\n",
    "nearest_index = (df['x'] - given_x).abs().idxmin()\n",
    "\n",
    "# 根据索引找到相应的一行\n",
    "nearest_row = df.loc[nearest_index]\n",
    "\n",
    "print(nearest_row)\n"
   ]
  }
 ],
 "metadata": {
  "kernelspec": {
   "display_name": "base",
   "language": "python",
   "name": "python3"
  },
  "language_info": {
   "codemirror_mode": {
    "name": "ipython",
    "version": 3
   },
   "file_extension": ".py",
   "mimetype": "text/x-python",
   "name": "python",
   "nbconvert_exporter": "python",
   "pygments_lexer": "ipython3",
   "version": "3.9.13"
  }
 },
 "nbformat": 4,
 "nbformat_minor": 2
}
