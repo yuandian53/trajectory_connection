{
 "cells": [
  {
   "cell_type": "code",
   "execution_count": 10,
   "metadata": {},
   "outputs": [
    {
     "name": "stdout",
     "output_type": "stream",
     "text": [
      "第一个数字: 1\n",
      "最后一个数字: 9\n"
     ]
    }
   ],
   "source": [
    "import re\n",
    "\n",
    "def extract_first_and_last_numbers(text):\n",
    "    # 提取第一个数字\n",
    "    first_number_match = re.search(r'\\d', text)\n",
    "    first_number = first_number_match.group() if first_number_match else None\n",
    "    \n",
    "    # 提取最后一个数字\n",
    "    last_number_match = re.search(r'\\d', text[::-1])\n",
    "    last_number = last_number_match.group() if last_number_match else None\n",
    "    \n",
    "    return first_number, last_number\n",
    "\n",
    "# 测试示例\n",
    "text = \"abc123def456ghi789\"\n",
    "first, last = extract_first_and_last_numbers(text)\n",
    "print(\"第一个数字:\", first)\n",
    "print(\"最后一个数字:\", last)\n",
    "\n"
   ]
  },
  {
   "cell_type": "code",
   "execution_count": 1,
   "metadata": {},
   "outputs": [
    {
     "name": "stdout",
     "output_type": "stream",
     "text": [
      "[[1 2]\n",
      " [2 3]\n",
      " [3 4]\n",
      " [4 5]]\n"
     ]
    }
   ],
   "source": [
    "import numpy as np\n",
    "import pandas as pd\n",
    "# 假设df是你的DataFrame，包含x和y两列数据\n",
    "df = pd.DataFrame({'x': [1, 2, 3, 4], 'y': [2, 3, 4, 5]})\n",
    "\n",
    "# 将DataFrame中的两列数据转换为np.array格式的列表\n",
    "trajectory = np.array(df[['x', 'y']].values.tolist())\n",
    "\n",
    "print(trajectory)\n",
    "\n"
   ]
  }
 ],
 "metadata": {
  "kernelspec": {
   "display_name": "base",
   "language": "python",
   "name": "python3"
  },
  "language_info": {
   "codemirror_mode": {
    "name": "ipython",
    "version": 3
   },
   "file_extension": ".py",
   "mimetype": "text/x-python",
   "name": "python",
   "nbconvert_exporter": "python",
   "pygments_lexer": "ipython3",
   "version": "3.9.13"
  }
 },
 "nbformat": 4,
 "nbformat_minor": 2
}
